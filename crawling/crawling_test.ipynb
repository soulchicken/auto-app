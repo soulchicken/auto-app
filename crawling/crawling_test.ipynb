{
 "cells": [
  {
   "cell_type": "markdown",
   "id": "aa5d1c0c",
   "metadata": {},
   "source": [
    "# 크롤링 테스트"
   ]
  },
  {
   "cell_type": "markdown",
   "id": "a80bfb37",
   "metadata": {},
   "source": [
    "## 01. 네이버 금융으로 확인"
   ]
  },
  {
   "cell_type": "markdown",
   "id": "068c65c8",
   "metadata": {},
   "source": [
    "- 네이버 금융에 있는 테이블을 보고 종목 명, 종목 가격을 알 수 있다면\n",
    "  실제로 할 테이블에서 이름과 번호를 가져올 수 있을 것이다"
   ]
  },
  {
   "cell_type": "code",
   "execution_count": 62,
   "id": "6b8e8675",
   "metadata": {
    "scrolled": true
   },
   "outputs": [
    {
     "name": "stdout",
     "output_type": "stream",
     "text": [
      "KODEX 200선물인버스2X\n",
      "KODEX 코스닥150선물인버스\n",
      "KODEX 레버리지\n",
      "신한 인버스 2X WTI원유 선물 ETN(H)\n",
      "SDN\n",
      "KODEX 인버스\n",
      "켐온\n",
      "KODEX 코스닥150레버리지\n",
      "노터스\n",
      "TS인베스트먼트\n",
      "SK5호스팩\n",
      "고려산업\n",
      "자연과환경\n",
      "동국S&C\n",
      "바이오로그디바이스\n"
     ]
    }
   ],
   "source": [
    "import selenium\n",
    "from selenium import webdriver\n",
    "\n",
    "import time\n",
    "\n",
    "driver = webdriver.Chrome() # Driver가 있는 path를 넣어 줄 수 있음\n",
    "\n",
    "time.sleep(2)\n",
    "\n",
    "driver.get(\"https://finance.naver.com/\")\n",
    "\n",
    "time.sleep(2)\n",
    "\n",
    "elems = driver.find_elements_by_css_selector(\"#_topItems1 th\")\n",
    "for elem in elems:\n",
    "    print(elem.text)"
   ]
  },
  {
   "cell_type": "code",
   "execution_count": null,
   "id": "83c0fd5a",
   "metadata": {},
   "outputs": [],
   "source": [
    "elems = driver.find_elements_by_css_selector(\"#_topItems1 th\")\n",
    "for elem in elems:\n",
    "    print(elem.text)"
   ]
  },
  {
   "cell_type": "code",
   "execution_count": 31,
   "id": "8e3bfd0e",
   "metadata": {},
   "outputs": [
    {
     "name": "stdout",
     "output_type": "stream",
     "text": [
      "3,215\n",
      "5,240\n",
      "14,820\n",
      "95\n",
      "2,925\n",
      "4,940\n",
      "2,755\n",
      "8,025\n",
      "8,480\n",
      "3,020\n",
      "3,085\n",
      "7,600\n",
      "1,510\n",
      "6,620\n",
      "1,560\n"
     ]
    }
   ],
   "source": [
    "elems = driver.find_elements_by_css_selector(\"#_topItems1 td\")\n",
    "i = 0\n",
    "for elem in elems:\n",
    "    if i % 3 == 0:\n",
    "        print(elem.text)\n",
    "    i += 1"
   ]
  },
  {
   "cell_type": "code",
   "execution_count": 61,
   "id": "a593451d",
   "metadata": {},
   "outputs": [],
   "source": [
    "driver.quit() # Browser 종료 & Chrome Driver 종료"
   ]
  },
  {
   "cell_type": "markdown",
   "id": "8c632bcc",
   "metadata": {},
   "source": [
    "## 02. 네이버 로그인"
   ]
  },
  {
   "cell_type": "markdown",
   "id": "ba723e20",
   "metadata": {},
   "source": [
    "- 로그인 기능을 성공하고 몇몇 버튼을 누를 수 있다면 실제로 다른데에 쓸 수 있을 것이다\n",
    "\n",
    "## 실패"
   ]
  },
  {
   "cell_type": "code",
   "execution_count": 48,
   "id": "b4566edc",
   "metadata": {},
   "outputs": [],
   "source": [
    "import selenium\n",
    "from selenium import webdriver\n",
    "from selenium.webdriver.common.keys import Keys\n",
    "import random\n",
    "import time\n",
    "\n",
    "driver = webdriver.Chrome() # Driver가 있는 path를 넣어 줄 수 있음\n",
    "\n",
    "time.sleep(2)\n",
    "\n",
    "driver.get(\"https://www.naver.com/\")"
   ]
  },
  {
   "cell_type": "code",
   "execution_count": 49,
   "id": "596944e0",
   "metadata": {},
   "outputs": [],
   "source": [
    "# 로그인 버튼 클릭하기\n",
    "login_btn = driver.find_element_by_xpath('//*[@id=\"account\"]/a')\n",
    "login_btn.click()"
   ]
  },
  {
   "cell_type": "code",
   "execution_count": 56,
   "id": "26a33548",
   "metadata": {},
   "outputs": [],
   "source": [
    "id = \"--------\"\n",
    "password = \"000000000\"\n",
    "\n",
    "# 아이디, 비밀번호 인풋 태그\n",
    "id_input = driver.find_element_by_xpath('//*[@id=\"id\"]')\n",
    "password_input = driver.find_element_by_xpath('//*[@id=\"pw\"]')\n",
    "submit_btn = driver.find_element_by_xpath('//*[@id=\"log.login\"]')"
   ]
  },
  {
   "cell_type": "code",
   "execution_count": 57,
   "id": "ecb406b6",
   "metadata": {},
   "outputs": [],
   "source": [
    "for i in id:\n",
    "    time.sleep(3 * random.random())\n",
    "    id_input.send_keys(i)\n",
    "    \n",
    "for p in password:\n",
    "    time.sleep(3 * random.random())\n",
    "    password_input.send_keys(p)\n",
    "    \n",
    "    "
   ]
  },
  {
   "cell_type": "code",
   "execution_count": 58,
   "id": "6203293d",
   "metadata": {},
   "outputs": [],
   "source": [
    "time.sleep(3 * random.random())\n",
    "submit_btn.click()"
   ]
  },
  {
   "cell_type": "code",
   "execution_count": 63,
   "id": "c7705849",
   "metadata": {},
   "outputs": [],
   "source": [
    "driver.quit() # Browser 종료 & Chrome Driver 종료"
   ]
  },
  {
   "cell_type": "markdown",
   "id": "9134426f",
   "metadata": {},
   "source": [
    "## 크롤링"
   ]
  },
  {
   "cell_type": "code",
   "execution_count": 44,
   "id": "b0e6474a",
   "metadata": {},
   "outputs": [],
   "source": [
    "import selenium\n",
    "from selenium import webdriver\n",
    "from selenium.webdriver.common.keys import Keys\n",
    "import random\n",
    "import time\n",
    "import copy"
   ]
  },
  {
   "cell_type": "code",
   "execution_count": 2,
   "id": "8567a4cf",
   "metadata": {},
   "outputs": [],
   "source": [
    "# //*[@id=\"__next\"]/div[1]/div/section/div[3]/div[3]/table/tbody\n",
    "driver = webdriver.Chrome() # Driver가 있는 path를 넣어 줄 수 있음\n",
    "\n",
    "time.sleep(2)\n",
    "\n",
    "driver.get(\"https://app.tosspayments.com/\")"
   ]
  },
  {
   "cell_type": "code",
   "execution_count": 52,
   "id": "848cad07",
   "metadata": {},
   "outputs": [],
   "source": [
    "elems = driver.find_element_by_xpath('//*[@id=\"__next\"]/div[1]/div/section/div[3]/div[3]/table/tbody')\n",
    "# print(elems)\n",
    "# print(elems.text)\n",
    "# print(elems.find_elements_by_tag_name('td'))\n",
    "\n",
    "# for i in elems.find_elements_by_tag_name('td'):\n",
    "#     print(i.text, '-----------')\n",
    "\n",
    "# print(elems.find_elements_by_class_name('text--left'))\n",
    "n = 0\n",
    "li = []\n",
    "l = []\n",
    "\n",
    "for i in elems.find_elements_by_class_name('text--left'):\n",
    "    if n % 10 == 0:\n",
    "#         print(\"날짜 : \",i.text)\n",
    "        l.append(i.text)\n",
    "    elif n % 10 == 3:\n",
    "#         print(\"컨텐츠 : \",i.text)\n",
    "        l.append(i.text)\n",
    "    elif n % 10 == 5:\n",
    "#         print(\"이름 : \",i.text)\n",
    "        l.append(i.text)\n",
    "    elif n % 10 == 7:\n",
    "#         print(\"번호 : \",i.text)\n",
    "        l.append(i.text)\n",
    "        li.append(l)\n",
    "        l = []\n",
    "    n += 1\n",
    "        # elems2 = elems.find_element_by_class_name('table__cell text--left')\n",
    "#for elem in elems:\n",
    "#    print(elem.text)"
   ]
  },
  {
   "cell_type": "code",
   "execution_count": 50,
   "id": "8657f583",
   "metadata": {
    "scrolled": true
   },
   "outputs": [
    {
     "name": "stdout",
     "output_type": "stream",
     "text": [
      "레다 url\n",
      "이야기 url\n",
      "이야기 url\n",
      "이야기 url\n",
      "이야기 url\n",
      "이야기 url\n",
      "이야기 url\n",
      "이야기 url\n",
      "이야기 url\n",
      "이야기 url\n",
      "이야기 url\n",
      "레다 url\n",
      "이야기 url\n",
      "레다 url\n",
      "이야기 url\n",
      "레다 url\n",
      "이야기 url\n",
      "이야기 url\n",
      "이야기 url\n",
      "이야기 url\n",
      "이야기 url\n",
      "이야기 url\n",
      "이야기 url\n",
      "이야기 url\n",
      "이야기 url\n",
      "이야기 url\n",
      "레다 url\n",
      "이야기 url\n",
      "레다 url\n",
      "이야기 url\n"
     ]
    }
   ],
   "source": [
    "for _ in range(2): # 바뀔 예정\n",
    "    time.sleep(3) # 바뀔 예정\n",
    "    elems2 = driver.find_element_by_xpath('//*[@id=\"__next\"]/div[1]/div/section/div[3]/div[3]/table/tbody')\n",
    "    # print(elems)\n",
    "    # print(elems.text)\n",
    "    # print(elems.find_elements_by_tag_name('td'))\n",
    "\n",
    "    # for i in elems.find_elements_by_tag_name('td'):\n",
    "    #     print(i.text, '-----------')\n",
    "\n",
    "    # print(elems.find_elements_by_class_name('text--left'))\n",
    "    n = 0\n",
    "    li2 = []\n",
    "    l2 = []\n",
    "\n",
    "    for i in elems2.find_elements_by_class_name('text--left'):\n",
    "        if n % 10 == 0:\n",
    "#             print(\"날짜 : \",i.text)\n",
    "            l2.append(i.text)\n",
    "        elif n % 10 == 3:\n",
    "#             print(\"컨텐츠 : \",i.text)\n",
    "            l2.append(i.text)\n",
    "        elif n % 10 == 5:\n",
    "#             print(\"이름 : \",i.text)\n",
    "            l2.append(i.text)\n",
    "        elif n % 10 == 7:\n",
    "#             print(\"번호 : \",i.text)\n",
    "            l2.append(i.text)\n",
    "            li2.append(l2)\n",
    "            \n",
    "#             if l2 not in li:\n",
    "\n",
    "    \n",
    "            if l2 in li:\n",
    "                # 이 고객은 새로운 사람\n",
    "                # 이 사람꺼 보내준다\n",
    "                \n",
    "                # 메뉴 확인해서 링크 변수에 넣기\n",
    "                url = find_menu(l2[1])\n",
    "                print(url)\n",
    "                \n",
    "                # 카톡 친추하기\n",
    "                \n",
    "                # 카톡 보내기 + url로\n",
    "                \n",
    "            l2 = []    \n",
    "            \n",
    "        n += 1\n",
    "\n",
    "    li = copy.deepcopy(li2)\n",
    "    li2 = []\n",
    "\n",
    "\n",
    "# 마지막에 li2 는 li로"
   ]
  },
  {
   "cell_type": "code",
   "execution_count": 48,
   "id": "26cb322e",
   "metadata": {},
   "outputs": [],
   "source": [
    "# 메뉴파인딩\n",
    "\n",
    "def find_menu(str):\n",
    "    if '레다 크라임씬 EP.01' in str:\n",
    "        return '레다 url'\n",
    "    \n",
    "    elif '이야기를 전해드릴게요' in str:\n",
    "                return '이야기 url'"
   ]
  },
  {
   "cell_type": "code",
   "execution_count": null,
   "id": "0630403a",
   "metadata": {},
   "outputs": [],
   "source": []
  }
 ],
 "metadata": {
  "kernelspec": {
   "display_name": "Python 3 (ipykernel)",
   "language": "python",
   "name": "python3"
  },
  "language_info": {
   "codemirror_mode": {
    "name": "ipython",
    "version": 3
   },
   "file_extension": ".py",
   "mimetype": "text/x-python",
   "name": "python",
   "nbconvert_exporter": "python",
   "pygments_lexer": "ipython3",
   "version": "3.9.12"
  }
 },
 "nbformat": 4,
 "nbformat_minor": 5
}
