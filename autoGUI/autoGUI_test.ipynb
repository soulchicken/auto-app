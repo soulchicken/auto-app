{
 "cells": [
  {
   "cell_type": "markdown",
   "id": "e6b91d33",
   "metadata": {},
   "source": [
    "# autoGUI 사용해보기"
   ]
  },
  {
   "cell_type": "code",
   "execution_count": 8,
   "id": "d3f94c82",
   "metadata": {},
   "outputs": [],
   "source": [
    "# import\n",
    "import pyautogui"
   ]
  },
  {
   "cell_type": "code",
   "execution_count": 18,
   "id": "82bc90d2",
   "metadata": {},
   "outputs": [
    {
     "name": "stdout",
     "output_type": "stream",
     "text": [
      "Size(width=1920, height=1080)\n",
      "Point(x=1472, y=673)\n"
     ]
    }
   ],
   "source": [
    "# 현재 사용하는 모니터의 해상도 출력\n",
    "print(pyautogui.size())\n",
    "\n",
    "# 현재 마우스 커서의 위치 출력\n",
    "print(pyautogui.position())"
   ]
  },
  {
   "cell_type": "code",
   "execution_count": 4,
   "id": "3417c1ac",
   "metadata": {},
   "outputs": [
    {
     "ename": "PyAutoGUIException",
     "evalue": "PyAutoGUI was unable to import mouseinfo. Please install this module to enable the function you tried to call.",
     "output_type": "error",
     "traceback": [
      "\u001b[1;31m---------------------------------------------------------------------------\u001b[0m",
      "\u001b[1;31mPyAutoGUIException\u001b[0m                        Traceback (most recent call last)",
      "Input \u001b[1;32mIn [4]\u001b[0m, in \u001b[0;36m<cell line: 2>\u001b[1;34m()\u001b[0m\n\u001b[0;32m      1\u001b[0m \u001b[38;5;66;03m# 마우스 현재 위치 & RGB 색상 실시간으로 얻기\u001b[39;00m\n\u001b[1;32m----> 2\u001b[0m \u001b[43mpyautogui\u001b[49m\u001b[38;5;241;43m.\u001b[39;49m\u001b[43mmouseInfo\u001b[49m\u001b[43m(\u001b[49m\u001b[43m)\u001b[49m\n",
      "File \u001b[1;32m~\\anaconda3\\lib\\site-packages\\pyautogui\\__init__.py:266\u001b[0m, in \u001b[0;36mmouseInfo\u001b[1;34m()\u001b[0m\n\u001b[0;32m    261\u001b[0m \u001b[38;5;28;01mdef\u001b[39;00m \u001b[38;5;21mmouseInfo\u001b[39m():\n\u001b[0;32m    262\u001b[0m     \u001b[38;5;124;03m\"\"\"\u001b[39;00m\n\u001b[0;32m    263\u001b[0m \u001b[38;5;124;03m    This function raises PyAutoGUIException. It's used for the MouseInfo function names if the MouseInfo module\u001b[39;00m\n\u001b[0;32m    264\u001b[0m \u001b[38;5;124;03m    failed to be imported.\u001b[39;00m\n\u001b[0;32m    265\u001b[0m \u001b[38;5;124;03m    \"\"\"\u001b[39;00m\n\u001b[1;32m--> 266\u001b[0m     \u001b[38;5;28;01mraise\u001b[39;00m PyAutoGUIException(\n\u001b[0;32m    267\u001b[0m         \u001b[38;5;124m\"\u001b[39m\u001b[38;5;124mPyAutoGUI was unable to import mouseinfo. Please install this module to enable the function you tried to call.\u001b[39m\u001b[38;5;124m\"\u001b[39m\n\u001b[0;32m    268\u001b[0m     )\n",
      "\u001b[1;31mPyAutoGUIException\u001b[0m: PyAutoGUI was unable to import mouseinfo. Please install this module to enable the function you tried to call."
     ]
    }
   ],
   "source": [
    "# 마우스 현재 위치 & RGB 색상 실시간으로 얻기\n",
    "pyautogui.mouseInfo()\n",
    "\n",
    "# 이 기능은 아나콘다 문제가 있는 것 같다"
   ]
  },
  {
   "cell_type": "markdown",
   "id": "355a158c",
   "metadata": {},
   "source": [
    "## 알림 창"
   ]
  },
  {
   "cell_type": "code",
   "execution_count": 6,
   "id": "0a25716f",
   "metadata": {},
   "outputs": [
    {
     "data": {
      "text/plain": [
       "'OK'"
      ]
     },
     "execution_count": 6,
     "metadata": {},
     "output_type": "execute_result"
    }
   ],
   "source": [
    "pyautogui.alert('눌러바')"
   ]
  },
  {
   "cell_type": "code",
   "execution_count": 7,
   "id": "41a22ea8",
   "metadata": {},
   "outputs": [
    {
     "name": "stdout",
     "output_type": "stream",
     "text": [
      "아무말해봐\n"
     ]
    }
   ],
   "source": [
    "text = pyautogui.prompt('원하는 메시지를 입력해주세요')\n",
    "print(text)"
   ]
  },
  {
   "cell_type": "markdown",
   "id": "e90a1a5b",
   "metadata": {},
   "source": [
    "## 이걸로 혹시 네이버 로그인이 가능할까"
   ]
  },
  {
   "cell_type": "markdown",
   "id": "73b2f543",
   "metadata": {},
   "source": [
    "### 실패\n",
    "역시 대기업은 대단해"
   ]
  },
  {
   "cell_type": "code",
   "execution_count": 14,
   "id": "42b493d8",
   "metadata": {},
   "outputs": [],
   "source": [
    "from selenium.webdriver.common.keys import Keys\n",
    "import random\n",
    "import time"
   ]
  },
  {
   "cell_type": "code",
   "execution_count": 19,
   "id": "aa4165b6",
   "metadata": {},
   "outputs": [],
   "source": [
    "# 아이디 인풋 좌표 : x=1293, y=449\n",
    "# 비밀번호 인풋 좌표 : Point(x=1283, y=514)\n",
    "# 로그인 버튼 좌표 : Point(x=1472, y=673)\n",
    "\n",
    "pyautogui.moveTo(1293, 449, duration=0.5)   # 200, 200 위치로 0.5초간 이동\n",
    "\n",
    "pyautogui.click(1293, 449)\n",
    "\n",
    "for i in id:\n",
    "    time.sleep(3 * random.random())\n",
    "    pyautogui.press(i)\n",
    "\n",
    "\n",
    "pyautogui.moveTo(1283, 514, duration=0.5)   # 200, 200 위치로 0.5초간 이동\n",
    "\n",
    "    \n",
    "pyautogui.click(1283, 514)\n",
    "    \n",
    "for p in password:\n",
    "    time.sleep(3 * random.random())\n",
    "    pyautogui.press(p)\n",
    "\n",
    "    \n",
    "pyautogui.moveTo(1472, 673, duration=0.5)   # 200, 200 위치로 0.5초간 이동\n",
    "\n",
    "pyautogui.click(1472, 673)\n"
   ]
  },
  {
   "cell_type": "code",
   "execution_count": null,
   "id": "1ae8aedd",
   "metadata": {},
   "outputs": [],
   "source": []
  },
  {
   "cell_type": "code",
   "execution_count": null,
   "id": "05b83dae",
   "metadata": {},
   "outputs": [],
   "source": []
  }
 ],
 "metadata": {
  "kernelspec": {
   "display_name": "Python 3 (ipykernel)",
   "language": "python",
   "name": "python3"
  },
  "language_info": {
   "codemirror_mode": {
    "name": "ipython",
    "version": 3
   },
   "file_extension": ".py",
   "mimetype": "text/x-python",
   "name": "python",
   "nbconvert_exporter": "python",
   "pygments_lexer": "ipython3",
   "version": "3.9.12"
  }
 },
 "nbformat": 4,
 "nbformat_minor": 5
}
